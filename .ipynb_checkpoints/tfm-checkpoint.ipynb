{
 "cells": [
  {
   "cell_type": "code",
   "execution_count": 26,
   "metadata": {},
   "outputs": [],
   "source": [
    "import requests\n",
    "from bs4 import BeautifulSoup\n",
    "import pandas as pd"
   ]
  },
  {
   "cell_type": "code",
   "execution_count": 17,
   "metadata": {},
   "outputs": [],
   "source": [
    "def conjunto_sinonimos(palabra):\n",
    "    pagina = requests.get(\"http://www.wordreference.com/sinonimos/\"+palabra)\n",
    "    pagina_parseada = BeautifulSoup(pagina.text,'lxml')\n",
    "    datos = (pagina_parseada.find(class_='trans clickable').find_all('li'))\n",
    "    lista = []\n",
    "    for cadena_sinonimos in datos:\n",
    "        sinonimos = cadena_sinonimos.text\n",
    "        if ':' not in sinonimos:\n",
    "            sinonimos=sinonimos.replace(' ','')\n",
    "            lista = lista + (sinonimos.split(','))\n",
    "    return set(lista)\n",
    "    "
   ]
  },
  {
   "cell_type": "code",
   "execution_count": 18,
   "metadata": {},
   "outputs": [
    {
     "data": {
      "text/plain": [
       "{'abalanzarse',\n",
       " 'acometer',\n",
       " 'agredir',\n",
       " 'arremeter',\n",
       " 'arrojarse',\n",
       " 'asaltar',\n",
       " 'contestar',\n",
       " 'contradecir',\n",
       " 'destrozar',\n",
       " 'embestir',\n",
       " 'impugnar',\n",
       " 'lanzarse',\n",
       " 'oponerse',\n",
       " 'rebatir',\n",
       " 'refutar',\n",
       " 'replicar'}"
      ]
     },
     "execution_count": 18,
     "metadata": {},
     "output_type": "execute_result"
    }
   ],
   "source": [
    "conjunto_sinonimos('atacar')"
   ]
  },
  {
   "cell_type": "markdown",
   "metadata": {},
   "source": [
    "Funcion para saber si un elemento es un verbo."
   ]
  },
  {
   "cell_type": "code",
   "execution_count": 2,
   "metadata": {},
   "outputs": [],
   "source": [
    "def es_verbo(palabra):\n",
    "    pagina = requests.get('http://www.wordreference.com/conj/EsVerbs.aspx?v='+palabra)\n",
    "    pagina_parseada = BeautifulSoup(pagina.text,'lxml')\n",
    "    datos = (pagina_parseada.find(text='No podemos confirmar que esta palabra sea un verbo.'))\n",
    "    if datos == None:\n",
    "        return \n",
    "    return False"
   ]
  },
  {
   "cell_type": "markdown",
   "metadata": {},
   "source": [
    "Lo mismo que la anterior, pero en vez de devolver True o False, devuelve el infitivo si es un verbo o una cadena vacia en caso contrario. \n",
    "Tal vez sea mejor mejor añadir los infinitivos en vez de cualquier forma verbal."
   ]
  },
  {
   "cell_type": "code",
   "execution_count": 3,
   "metadata": {},
   "outputs": [],
   "source": [
    "def infinitivo(palabra):\n",
    "    pagina = requests.get('http://www.wordreference.com/conj/EsVerbs.aspx?v='+ palabra)\n",
    "    pagina_parseada = BeautifulSoup(pagina.text,'lxml')\n",
    "    datos = (pagina_parseada.find(name='h3'))\n",
    "    try:\n",
    "        resultado = datos.text\n",
    "\n",
    "    except:\n",
    "        resultado = ''\n",
    "    return resultado\n"
   ]
  },
  {
   "cell_type": "code",
   "execution_count": 5,
   "metadata": {},
   "outputs": [
    {
     "data": {
      "text/plain": [
       "False"
      ]
     },
     "execution_count": 5,
     "metadata": {},
     "output_type": "execute_result"
    }
   ],
   "source": [
    "es_verbo('silla')"
   ]
  },
  {
   "cell_type": "markdown",
   "metadata": {},
   "source": [
    "Hacer el tesauro seria algo asi?"
   ]
  },
  {
   "cell_type": "code",
   "execution_count": 30,
   "metadata": {},
   "outputs": [],
   "source": [
    "palabras = ['silla','atacar','lanzar','correr','saltar','jugar']\n",
    "tesauro = set()\n",
    "for i in palabras:\n",
    "    if infinitivo(i)!= '':\n",
    "        tesauro = tesauro.union(conjunto_sinonimos(i))\n",
    "tesauro\n",
    "data = pd.DataFrame(list(tesauro))\n",
    "data.to_csv('tesauro.csv',header=False,index=False)"
   ]
  },
  {
   "cell_type": "code",
   "execution_count": 31,
   "metadata": {},
   "outputs": [
    {
     "data": {
      "text/plain": [
       "{'abalanzar',\n",
       " 'abalanzarse',\n",
       " 'abochornarse',\n",
       " 'acelerar',\n",
       " 'acometer',\n",
       " 'acosar',\n",
       " 'agredir',\n",
       " 'aligerar',\n",
       " 'amedrentar',\n",
       " 'apartarse',\n",
       " 'apostar',\n",
       " 'apresurarse',\n",
       " 'arremeter',\n",
       " 'arriesgar',\n",
       " 'arrojar',\n",
       " 'arrojarse',\n",
       " 'asaltar',\n",
       " 'aturullarse',\n",
       " 'aventurar',\n",
       " 'avergonzarse',\n",
       " 'azorarse',\n",
       " 'botar',\n",
       " 'brincar',\n",
       " 'caminar',\n",
       " 'cazar',\n",
       " 'circular',\n",
       " 'competir',\n",
       " 'confundirse',\n",
       " 'contestar',\n",
       " 'contradecir',\n",
       " 'corretear',\n",
       " 'dejar',\n",
       " 'derramar',\n",
       " 'desafiar',\n",
       " 'desconcertarse',\n",
       " 'deslizarse',\n",
       " 'despedir',\n",
       " 'despeñar',\n",
       " 'desplazarse',\n",
       " 'destrozar',\n",
       " 'destruirse',\n",
       " 'detonar',\n",
       " 'difundir',\n",
       " 'difundirse',\n",
       " 'disparar',\n",
       " 'divertirse',\n",
       " 'divulgar',\n",
       " 'divulgarse',\n",
       " 'echar',\n",
       " 'editar',\n",
       " 'eludir',\n",
       " 'emanar',\n",
       " 'embestir',\n",
       " 'emitir',\n",
       " 'empujar',\n",
       " 'entretenerse',\n",
       " 'envidar',\n",
       " 'esparcirse',\n",
       " 'estallar',\n",
       " 'exhalar',\n",
       " 'explotar',\n",
       " 'expulsar',\n",
       " 'extender',\n",
       " 'extenderse',\n",
       " 'fluir',\n",
       " 'galopar',\n",
       " 'impeler',\n",
       " 'impugnar',\n",
       " 'juguetear',\n",
       " 'lanzarse',\n",
       " 'levantarse',\n",
       " 'manar',\n",
       " 'marchar',\n",
       " 'moverse',\n",
       " 'olvidar',\n",
       " 'omitir',\n",
       " 'oponerse',\n",
       " 'pasar',\n",
       " 'perseguir',\n",
       " 'piruetear',\n",
       " 'poner',\n",
       " 'precipitarse',\n",
       " 'propagarse',\n",
       " 'propalar',\n",
       " 'propalarse',\n",
       " 'proyectar',\n",
       " 'pugnar',\n",
       " 'rebatir',\n",
       " 'rebotar',\n",
       " 'recorrer',\n",
       " 'recrearse',\n",
       " 'refutar',\n",
       " 'replicar',\n",
       " 'resbalar',\n",
       " 'respingar',\n",
       " 'retar',\n",
       " 'retozar',\n",
       " 'reventar',\n",
       " 'romperse',\n",
       " 'silenciar',\n",
       " 'soltar',\n",
       " 'tirar',\n",
       " 'tirarse',\n",
       " 'transcurrir',\n",
       " 'transitar',\n",
       " 'trotar',\n",
       " 'turbarse',\n",
       " 'verter',\n",
       " 'viajar',\n",
       " 'visitar',\n",
       " 'volar'}"
      ]
     },
     "execution_count": 31,
     "metadata": {},
     "output_type": "execute_result"
    }
   ],
   "source": [
    "tesauro"
   ]
  },
  {
   "cell_type": "markdown",
   "metadata": {},
   "source": [
    "# Contar\n"
   ]
  },
  {
   "cell_type": "code",
   "execution_count": 6,
   "metadata": {},
   "outputs": [],
   "source": [
    "import string\n",
    "def quitar(linea):\n",
    "    for c in string.punctuation:\n",
    "        linea= linea.replace(c,\"\")\n",
    "    return linea\n"
   ]
  },
  {
   "cell_type": "code",
   "execution_count": 7,
   "metadata": {},
   "outputs": [],
   "source": [
    "def contar(file):\n",
    "    rdd = sc.textFile(file)\n",
    "    rdd = rdd.filter(lambda x: len(x)!=0)\n",
    "    rdd = rdd.flatMap(lambda x: x.split(' '))\n",
    "    rdd = rdd.map(quitar)\n",
    "    rdd = rdd.map(lambda x: (x,1))\n",
    "    rdd = rdd.reduceByKey(lambda x,y : x + y)\n",
    "    return rdd"
   ]
  },
  {
   "cell_type": "code",
   "execution_count": 8,
   "metadata": {},
   "outputs": [],
   "source": [
    "rdd = contar('pg2000.txt')"
   ]
  },
  {
   "cell_type": "code",
   "execution_count": 9,
   "metadata": {},
   "outputs": [
    {
     "data": {
      "text/plain": [
       "[('The', 12),\n",
       " ('Project', 85),\n",
       " ('EBook', 2),\n",
       " ('of', 107),\n",
       " ('Don', 100),\n",
       " ('Miguel', 21),\n",
       " ('is', 25),\n",
       " ('use', 11)]"
      ]
     },
     "execution_count": 9,
     "metadata": {},
     "output_type": "execute_result"
    }
   ],
   "source": [
    "rdd.take(8)"
   ]
  },
  {
   "cell_type": "code",
   "execution_count": null,
   "metadata": {},
   "outputs": [],
   "source": []
  }
 ],
 "metadata": {
  "kernelspec": {
   "display_name": "Python 3",
   "language": "python",
   "name": "python3"
  },
  "language_info": {
   "codemirror_mode": {
    "name": "ipython",
    "version": 3
   },
   "file_extension": ".py",
   "mimetype": "text/x-python",
   "name": "python",
   "nbconvert_exporter": "python",
   "pygments_lexer": "ipython3",
   "version": "3.6.5"
  }
 },
 "nbformat": 4,
 "nbformat_minor": 2
}
